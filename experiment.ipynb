{
 "cells": [
  {
   "cell_type": "markdown",
   "metadata": {},
   "source": [
    "# Testing adverserially trained models on different datasets"
   ]
  },
  {
   "cell_type": "code",
   "execution_count": 1,
   "metadata": {},
   "outputs": [
    {
     "name": "stderr",
     "output_type": "stream",
     "text": [
      "python: can't open file 'c:\\Users\\Admin\\Desktop\\comp-551-A4\\'train.py'': [Errno 2] No such file or directory\n"
     ]
    }
   ],
   "source": [
    "!python './train.py' -e 3 -t cifar100 -ub 3 -b 128 -n 800 -w 2 -ne 100 -li 20 -s 20100000 -lr 0.1"
   ]
  }
 ],
 "metadata": {
  "interpreter": {
   "hash": "a574dcb8bb25d4658d480fdc7dfeafe8204686552d95db4abb32f6760460b339"
  },
  "kernelspec": {
   "display_name": "Python 3.9.5 64-bit ('venv': venv)",
   "language": "python",
   "name": "python3"
  },
  "language_info": {
   "codemirror_mode": {
    "name": "ipython",
    "version": 3
   },
   "file_extension": ".py",
   "mimetype": "text/x-python",
   "name": "python",
   "nbconvert_exporter": "python",
   "pygments_lexer": "ipython3",
   "version": "3.9.5"
  },
  "orig_nbformat": 4
 },
 "nbformat": 4,
 "nbformat_minor": 2
}
